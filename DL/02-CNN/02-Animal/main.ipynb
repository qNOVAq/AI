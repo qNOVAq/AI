{
 "cells": [
  {
   "cell_type": "code",
   "execution_count": 21,
   "metadata": {},
   "outputs": [],
   "source": [
    "import numpy as np\n",
    "from tensorflow.keras.layers import Dense, Dropout, MaxPooling2D, Conv2D, Flatten\n",
    "from tensorflow.keras.models import Sequential\n",
    "from tensorflow.keras.preprocessing.image import ImageDataGenerator\n"
   ]
  },
  {
   "cell_type": "code",
   "execution_count": 27,
   "metadata": {},
   "outputs": [
    {
     "name": "stdout",
     "output_type": "stream",
     "text": [
      "Found 3000 images belonging to 3 classes.\n",
      "Found 3000 images belonging to 3 classes.\n"
     ]
    }
   ],
   "source": [
    "train_generator = ImageDataGenerator(rescale=1./255, shear_range=0.2, zoom_range=0.2, horizontal_flip=True)\n",
    "training_set = train_generator.flow_from_directory('animals/train', target_size=(55,32), class_mode='categorical', batch_size=32)\n",
    "\n",
    "test_generator = ImageDataGenerator(rescale=1./255)\n",
    "testing_set = test_generator.flow_from_directory('animals/test', target_size=(55,32), class_mode='categorical', batch_size=32)"
   ]
  },
  {
   "cell_type": "code",
   "execution_count": 28,
   "metadata": {
    "collapsed": true
   },
   "outputs": [
    {
     "name": "stdout",
     "output_type": "stream",
     "text": [
      "Epoch 1/50\n",
      "94/94 [==============================] - 24s 258ms/step - loss: 0.9878 - accuracy: 0.4593 - val_loss: 0.8493 - val_accuracy: 0.5590\n",
      "Epoch 2/50\n",
      "94/94 [==============================] - 24s 256ms/step - loss: 0.8181 - accuracy: 0.5697 - val_loss: 0.7886 - val_accuracy: 0.5853\n",
      "Epoch 3/50\n",
      "94/94 [==============================] - 25s 262ms/step - loss: 0.7783 - accuracy: 0.5940 - val_loss: 0.7156 - val_accuracy: 0.6333\n",
      "Epoch 4/50\n",
      "94/94 [==============================] - 25s 265ms/step - loss: 0.7342 - accuracy: 0.6017 - val_loss: 0.7372 - val_accuracy: 0.6387\n",
      "Epoch 5/50\n",
      "94/94 [==============================] - 25s 262ms/step - loss: 0.7138 - accuracy: 0.6217 - val_loss: 0.7062 - val_accuracy: 0.6137\n",
      "Epoch 6/50\n",
      "94/94 [==============================] - 25s 263ms/step - loss: 0.6894 - accuracy: 0.6383 - val_loss: 0.6851 - val_accuracy: 0.6527\n",
      "Epoch 7/50\n",
      "94/94 [==============================] - 25s 265ms/step - loss: 0.6867 - accuracy: 0.6440 - val_loss: 0.6346 - val_accuracy: 0.6887\n",
      "Epoch 8/50\n",
      "94/94 [==============================] - 25s 267ms/step - loss: 0.6772 - accuracy: 0.6467 - val_loss: 0.6702 - val_accuracy: 0.6643\n",
      "Epoch 9/50\n",
      "94/94 [==============================] - 25s 269ms/step - loss: 0.6578 - accuracy: 0.6670 - val_loss: 0.6174 - val_accuracy: 0.6887\n",
      "Epoch 10/50\n",
      "94/94 [==============================] - 25s 269ms/step - loss: 0.6685 - accuracy: 0.6360 - val_loss: 0.6618 - val_accuracy: 0.6710\n",
      "Epoch 11/50\n",
      "94/94 [==============================] - 25s 270ms/step - loss: 0.6459 - accuracy: 0.6573 - val_loss: 0.6271 - val_accuracy: 0.6833\n",
      "Epoch 12/50\n",
      "94/94 [==============================] - 25s 262ms/step - loss: 0.6391 - accuracy: 0.6723 - val_loss: 0.6745 - val_accuracy: 0.6537\n",
      "Epoch 13/50\n",
      "94/94 [==============================] - 26s 280ms/step - loss: 0.6572 - accuracy: 0.6563 - val_loss: 0.6205 - val_accuracy: 0.7020\n",
      "Epoch 14/50\n",
      "94/94 [==============================] - 25s 263ms/step - loss: 0.6337 - accuracy: 0.6640 - val_loss: 0.6509 - val_accuracy: 0.6820\n",
      "Epoch 15/50\n",
      "94/94 [==============================] - 25s 263ms/step - loss: 0.6382 - accuracy: 0.6787 - val_loss: 0.5835 - val_accuracy: 0.7140\n",
      "Epoch 16/50\n",
      "94/94 [==============================] - 25s 269ms/step - loss: 0.6257 - accuracy: 0.6737 - val_loss: 0.6574 - val_accuracy: 0.6767\n",
      "Epoch 17/50\n",
      "94/94 [==============================] - 25s 262ms/step - loss: 0.6382 - accuracy: 0.6790 - val_loss: 0.6095 - val_accuracy: 0.6993\n",
      "Epoch 18/50\n",
      "94/94 [==============================] - 25s 263ms/step - loss: 0.6162 - accuracy: 0.6860 - val_loss: 0.6020 - val_accuracy: 0.6990\n",
      "Epoch 19/50\n",
      "94/94 [==============================] - 25s 271ms/step - loss: 0.6240 - accuracy: 0.6857 - val_loss: 0.5600 - val_accuracy: 0.7250\n",
      "Epoch 20/50\n",
      "94/94 [==============================] - 25s 267ms/step - loss: 0.5900 - accuracy: 0.7007 - val_loss: 0.7076 - val_accuracy: 0.6363\n",
      "Epoch 21/50\n",
      "94/94 [==============================] - 25s 261ms/step - loss: 0.6066 - accuracy: 0.6960 - val_loss: 0.5733 - val_accuracy: 0.7190\n",
      "Epoch 22/50\n",
      "94/94 [==============================] - 25s 263ms/step - loss: 0.6214 - accuracy: 0.6917 - val_loss: 0.5910 - val_accuracy: 0.7223\n",
      "Epoch 23/50\n",
      "94/94 [==============================] - 25s 263ms/step - loss: 0.5871 - accuracy: 0.7057 - val_loss: 0.5613 - val_accuracy: 0.7183\n",
      "Epoch 24/50\n",
      "94/94 [==============================] - 27s 284ms/step - loss: 0.5928 - accuracy: 0.7037 - val_loss: 0.5894 - val_accuracy: 0.7213\n",
      "Epoch 25/50\n",
      "94/94 [==============================] - 25s 261ms/step - loss: 0.5950 - accuracy: 0.7037 - val_loss: 0.6332 - val_accuracy: 0.6900\n",
      "Epoch 26/50\n",
      "94/94 [==============================] - 29s 306ms/step - loss: 0.5847 - accuracy: 0.7053 - val_loss: 0.5905 - val_accuracy: 0.7163\n",
      "Epoch 27/50\n",
      "94/94 [==============================] - 25s 262ms/step - loss: 0.5812 - accuracy: 0.7147 - val_loss: 0.5220 - val_accuracy: 0.7523\n",
      "Epoch 28/50\n",
      "94/94 [==============================] - 24s 257ms/step - loss: 0.5886 - accuracy: 0.7050 - val_loss: 0.5251 - val_accuracy: 0.7580\n",
      "Epoch 29/50\n",
      "94/94 [==============================] - 26s 272ms/step - loss: 0.5552 - accuracy: 0.7313 - val_loss: 0.5334 - val_accuracy: 0.7423\n",
      "Epoch 30/50\n",
      "94/94 [==============================] - 25s 267ms/step - loss: 0.5758 - accuracy: 0.7073 - val_loss: 0.5389 - val_accuracy: 0.7383\n",
      "Epoch 31/50\n",
      "94/94 [==============================] - 27s 290ms/step - loss: 0.5656 - accuracy: 0.7223 - val_loss: 0.6556 - val_accuracy: 0.6710\n",
      "Epoch 32/50\n",
      "94/94 [==============================] - 25s 271ms/step - loss: 0.5658 - accuracy: 0.7190 - val_loss: 0.5232 - val_accuracy: 0.7610\n",
      "Epoch 33/50\n",
      "94/94 [==============================] - 27s 286ms/step - loss: 0.5455 - accuracy: 0.7313 - val_loss: 0.5087 - val_accuracy: 0.7620\n",
      "Epoch 34/50\n",
      "94/94 [==============================] - 25s 268ms/step - loss: 0.5593 - accuracy: 0.7260 - val_loss: 0.5489 - val_accuracy: 0.7470\n",
      "Epoch 35/50\n",
      "94/94 [==============================] - 25s 261ms/step - loss: 0.5517 - accuracy: 0.7273 - val_loss: 0.5150 - val_accuracy: 0.7520\n",
      "Epoch 36/50\n",
      "94/94 [==============================] - 25s 268ms/step - loss: 0.5406 - accuracy: 0.7373 - val_loss: 0.6181 - val_accuracy: 0.7147\n",
      "Epoch 37/50\n",
      "94/94 [==============================] - 25s 263ms/step - loss: 0.5523 - accuracy: 0.7367 - val_loss: 0.6277 - val_accuracy: 0.6910\n",
      "Epoch 38/50\n",
      "94/94 [==============================] - 26s 272ms/step - loss: 0.5395 - accuracy: 0.7383 - val_loss: 0.5421 - val_accuracy: 0.7437\n",
      "Epoch 39/50\n",
      "94/94 [==============================] - 25s 262ms/step - loss: 0.5473 - accuracy: 0.7377 - val_loss: 0.4877 - val_accuracy: 0.7830\n",
      "Epoch 40/50\n",
      "94/94 [==============================] - 25s 271ms/step - loss: 0.5278 - accuracy: 0.7473 - val_loss: 0.4998 - val_accuracy: 0.7700\n",
      "Epoch 41/50\n",
      "94/94 [==============================] - 25s 262ms/step - loss: 0.5356 - accuracy: 0.7367 - val_loss: 0.4707 - val_accuracy: 0.7863\n",
      "Epoch 42/50\n",
      "94/94 [==============================] - 25s 263ms/step - loss: 0.5196 - accuracy: 0.7590 - val_loss: 0.4696 - val_accuracy: 0.7903\n",
      "Epoch 43/50\n",
      "94/94 [==============================] - 25s 269ms/step - loss: 0.5280 - accuracy: 0.7473 - val_loss: 0.4776 - val_accuracy: 0.7797\n",
      "Epoch 44/50\n",
      "94/94 [==============================] - 25s 268ms/step - loss: 0.5204 - accuracy: 0.7570 - val_loss: 0.4563 - val_accuracy: 0.7997\n",
      "Epoch 45/50\n",
      "94/94 [==============================] - 25s 271ms/step - loss: 0.5045 - accuracy: 0.7577 - val_loss: 0.4494 - val_accuracy: 0.8007\n",
      "Epoch 46/50\n",
      "94/94 [==============================] - 25s 265ms/step - loss: 0.5120 - accuracy: 0.7590 - val_loss: 0.4437 - val_accuracy: 0.8073\n",
      "Epoch 47/50\n",
      "94/94 [==============================] - 24s 260ms/step - loss: 0.5056 - accuracy: 0.7627 - val_loss: 0.4415 - val_accuracy: 0.8017\n",
      "Epoch 48/50\n",
      "94/94 [==============================] - 25s 269ms/step - loss: 0.5127 - accuracy: 0.7573 - val_loss: 0.4298 - val_accuracy: 0.8167\n",
      "Epoch 49/50\n",
      "94/94 [==============================] - 26s 275ms/step - loss: 0.4990 - accuracy: 0.7653 - val_loss: 0.4521 - val_accuracy: 0.7837\n",
      "Epoch 50/50\n",
      "94/94 [==============================] - 25s 265ms/step - loss: 0.5134 - accuracy: 0.7547 - val_loss: 0.4808 - val_accuracy: 0.7730\n"
     ]
    }
   ],
   "source": [
    "cnn = Sequential()\n",
    "\n",
    "cnn.add(Conv2D(64, kernel_size=3, activation='relu', input_shape=[55,32,3]))\n",
    "cnn.add(MaxPooling2D(pool_size=2, strides=2))\n",
    "\n",
    "cnn.add(Conv2D(32, kernel_size=3, activation='relu'))\n",
    "cnn.add(MaxPooling2D(pool_size=2, strides=2))\n",
    "\n",
    "cnn.add(Dropout(0.5))\n",
    "\n",
    "cnn.add(Conv2D(16, kernel_size=3, activation='relu'))\n",
    "cnn.add(MaxPooling2D(pool_size=2, strides=2))\n",
    "\n",
    "cnn.add(Dropout(0.2))\n",
    "cnn.add(Flatten())\n",
    "cnn.add(Dense(128, activation='relu'))\n",
    "\n",
    "cnn.add(Dense(64, activation='relu'))\n",
    "\n",
    "cnn.add(Dense(3, activation='softmax'))\n",
    "\n",
    "cnn.compile(optimizer='adam', loss='categorical_crossentropy', metrics=['accuracy'])\n",
    "\n",
    "cnn.fit(training_set, validation_data=testing_set, epochs=50)\n",
    "\n",
    "cnn.save_weights('weights.h5')"
   ]
  },
  {
   "cell_type": "code",
   "execution_count": 80,
   "metadata": {},
   "outputs": [
    {
     "data": {
      "text/plain": [
       "'Dog'"
      ]
     },
     "execution_count": 80,
     "metadata": {},
     "output_type": "execute_result"
    }
   ],
   "source": [
    "from tensorflow.keras.preprocessing import image\n",
    "img = image.load_img('images/dog.jpg', target_size=(55,32))\n",
    "img = image.img_to_array(img)\n",
    "img = np.expand_dims(img, axis=0)\n",
    "\n",
    "prediction = cnn.predict(img)\n",
    "\n",
    "if prediction[0][0] == 1:\n",
    "    final = 'Cat'\n",
    "elif prediction[0][1] == 1:\n",
    "    final = 'Dog'\n",
    "else:final='Panda'\n",
    "    \n",
    "final"
   ]
  },
  {
   "cell_type": "code",
   "execution_count": 78,
   "metadata": {},
   "outputs": [
    {
     "data": {
      "text/plain": [
       "array([[0., 0., 1.]], dtype=float32)"
      ]
     },
     "execution_count": 78,
     "metadata": {},
     "output_type": "execute_result"
    }
   ],
   "source": [
    "prediction\n"
   ]
  },
  {
   "cell_type": "code",
   "execution_count": 69,
   "metadata": {},
   "outputs": [
    {
     "data": {
      "text/plain": [
       "{'cats': 0, 'dogs': 1, 'panda': 2}"
      ]
     },
     "execution_count": 69,
     "metadata": {},
     "output_type": "execute_result"
    }
   ],
   "source": [
    "training_set.class_indices"
   ]
  },
  {
   "cell_type": "code",
   "execution_count": null,
   "metadata": {},
   "outputs": [],
   "source": []
  }
 ],
 "metadata": {
  "kernelspec": {
   "display_name": "Python 3",
   "language": "python",
   "name": "python3"
  },
  "language_info": {
   "codemirror_mode": {
    "name": "ipython",
    "version": 3
   },
   "file_extension": ".py",
   "mimetype": "text/x-python",
   "name": "python",
   "nbconvert_exporter": "python",
   "pygments_lexer": "ipython3",
   "version": "3.8.3"
  }
 },
 "nbformat": 4,
 "nbformat_minor": 4
}
