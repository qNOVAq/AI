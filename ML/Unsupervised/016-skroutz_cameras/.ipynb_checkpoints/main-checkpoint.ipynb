{
 "cells": [
  {
   "cell_type": "code",
   "execution_count": 9,
   "metadata": {},
   "outputs": [
    {
     "data": {
      "text/html": [
       "<div>\n",
       "<style scoped>\n",
       "    .dataframe tbody tr th:only-of-type {\n",
       "        vertical-align: middle;\n",
       "    }\n",
       "\n",
       "    .dataframe tbody tr th {\n",
       "        vertical-align: top;\n",
       "    }\n",
       "\n",
       "    .dataframe thead th {\n",
       "        text-align: right;\n",
       "    }\n",
       "</style>\n",
       "<table border=\"1\" class=\"dataframe\">\n",
       "  <thead>\n",
       "    <tr style=\"text-align: right;\">\n",
       "      <th></th>\n",
       "      <th>382616</th>\n",
       "      <th>nikon d3400 kit black af p 18 55 vr</th>\n",
       "      <th>4835</th>\n",
       "      <th>105085</th>\n",
       "      <th>Nikon D3400 Kit (AF-P DX 18-55mm f/3.5-5.6G VR)</th>\n",
       "      <th>2055</th>\n",
       "      <th>DSLR Cameras</th>\n",
       "    </tr>\n",
       "  </thead>\n",
       "  <tbody>\n",
       "    <tr>\n",
       "      <th>0</th>\n",
       "      <td>382617</td>\n",
       "      <td>nikon d3400 black kit af p 18 55mm vr doro thiki</td>\n",
       "      <td>552</td>\n",
       "      <td>105085</td>\n",
       "      <td>Nikon D3400 Kit (AF-P DX 18-55mm f/3.5-5.6G VR)</td>\n",
       "      <td>2055</td>\n",
       "      <td>DSLR Cameras</td>\n",
       "    </tr>\n",
       "    <tr>\n",
       "      <th>1</th>\n",
       "      <td>382618</td>\n",
       "      <td>nikon d3400 black 18 55af pvr me doro thiki me...</td>\n",
       "      <td>1308</td>\n",
       "      <td>105085</td>\n",
       "      <td>Nikon D3400 Kit (AF-P DX 18-55mm f/3.5-5.6G VR)</td>\n",
       "      <td>2055</td>\n",
       "      <td>DSLR Cameras</td>\n",
       "    </tr>\n",
       "    <tr>\n",
       "      <th>2</th>\n",
       "      <td>382619</td>\n",
       "      <td>nikon d3400 black kit 18 55mm af p vr doro thi...</td>\n",
       "      <td>403</td>\n",
       "      <td>105085</td>\n",
       "      <td>Nikon D3400 Kit (AF-P DX 18-55mm f/3.5-5.6G VR)</td>\n",
       "      <td>2055</td>\n",
       "      <td>DSLR Cameras</td>\n",
       "    </tr>\n",
       "    <tr>\n",
       "      <th>3</th>\n",
       "      <td>382620</td>\n",
       "      <td>nikon d3400 black kit 18 55mm vr af p ke thiki...</td>\n",
       "      <td>122</td>\n",
       "      <td>105085</td>\n",
       "      <td>Nikon D3400 Kit (AF-P DX 18-55mm f/3.5-5.6G VR)</td>\n",
       "      <td>2055</td>\n",
       "      <td>DSLR Cameras</td>\n",
       "    </tr>\n",
       "    <tr>\n",
       "      <th>4</th>\n",
       "      <td>382621</td>\n",
       "      <td>nikon d3400 kit af p dx 18 55mm f/3.5 5.6g vr ...</td>\n",
       "      <td>1122</td>\n",
       "      <td>105085</td>\n",
       "      <td>Nikon D3400 Kit (AF-P DX 18-55mm f/3.5-5.6G VR)</td>\n",
       "      <td>2055</td>\n",
       "      <td>DSLR Cameras</td>\n",
       "    </tr>\n",
       "  </tbody>\n",
       "</table>\n",
       "</div>"
      ],
      "text/plain": [
       "   382616                nikon d3400 kit black af p 18 55 vr  4835  105085  \\\n",
       "0  382617   nikon d3400 black kit af p 18 55mm vr doro thiki   552  105085   \n",
       "1  382618  nikon d3400 black 18 55af pvr me doro thiki me...  1308  105085   \n",
       "2  382619  nikon d3400 black kit 18 55mm af p vr doro thi...   403  105085   \n",
       "3  382620  nikon d3400 black kit 18 55mm vr af p ke thiki...   122  105085   \n",
       "4  382621  nikon d3400 kit af p dx 18 55mm f/3.5 5.6g vr ...  1122  105085   \n",
       "\n",
       "   Nikon D3400 Kit (AF-P DX 18-55mm f/3.5-5.6G VR)  2055  DSLR Cameras  \n",
       "0  Nikon D3400 Kit (AF-P DX 18-55mm f/3.5-5.6G VR)  2055  DSLR Cameras  \n",
       "1  Nikon D3400 Kit (AF-P DX 18-55mm f/3.5-5.6G VR)  2055  DSLR Cameras  \n",
       "2  Nikon D3400 Kit (AF-P DX 18-55mm f/3.5-5.6G VR)  2055  DSLR Cameras  \n",
       "3  Nikon D3400 Kit (AF-P DX 18-55mm f/3.5-5.6G VR)  2055  DSLR Cameras  \n",
       "4  Nikon D3400 Kit (AF-P DX 18-55mm f/3.5-5.6G VR)  2055  DSLR Cameras  "
      ]
     },
     "execution_count": 9,
     "metadata": {},
     "output_type": "execute_result"
    }
   ],
   "source": [
    "import pandas as pd \n",
    "import numpy as np\n",
    "data = pd.read_csv('skroutz_cameras.csv')\n",
    "data.head()"
   ]
  },
  {
   "cell_type": "code",
   "execution_count": 10,
   "metadata": {},
   "outputs": [
    {
     "data": {
      "text/html": [
       "<div>\n",
       "<style scoped>\n",
       "    .dataframe tbody tr th:only-of-type {\n",
       "        vertical-align: middle;\n",
       "    }\n",
       "\n",
       "    .dataframe tbody tr th {\n",
       "        vertical-align: top;\n",
       "    }\n",
       "\n",
       "    .dataframe thead th {\n",
       "        text-align: right;\n",
       "    }\n",
       "</style>\n",
       "<table border=\"1\" class=\"dataframe\">\n",
       "  <thead>\n",
       "    <tr style=\"text-align: right;\">\n",
       "      <th></th>\n",
       "      <th>nikon d3400 kit black af p 18 55 vr</th>\n",
       "      <th>4835</th>\n",
       "      <th>105085</th>\n",
       "      <th>Nikon D3400 Kit (AF-P DX 18-55mm f/3.5-5.6G VR)</th>\n",
       "    </tr>\n",
       "  </thead>\n",
       "  <tbody>\n",
       "    <tr>\n",
       "      <th>0</th>\n",
       "      <td>1782</td>\n",
       "      <td>26</td>\n",
       "      <td>0</td>\n",
       "      <td>255</td>\n",
       "    </tr>\n",
       "    <tr>\n",
       "      <th>1</th>\n",
       "      <td>1763</td>\n",
       "      <td>59</td>\n",
       "      <td>0</td>\n",
       "      <td>255</td>\n",
       "    </tr>\n",
       "    <tr>\n",
       "      <th>2</th>\n",
       "      <td>1776</td>\n",
       "      <td>15</td>\n",
       "      <td>0</td>\n",
       "      <td>255</td>\n",
       "    </tr>\n",
       "    <tr>\n",
       "      <th>3</th>\n",
       "      <td>1780</td>\n",
       "      <td>4</td>\n",
       "      <td>0</td>\n",
       "      <td>255</td>\n",
       "    </tr>\n",
       "    <tr>\n",
       "      <th>4</th>\n",
       "      <td>1834</td>\n",
       "      <td>49</td>\n",
       "      <td>0</td>\n",
       "      <td>255</td>\n",
       "    </tr>\n",
       "  </tbody>\n",
       "</table>\n",
       "</div>"
      ],
      "text/plain": [
       "   nikon d3400 kit black af p 18 55 vr  4835  105085  \\\n",
       "0                                 1782    26       0   \n",
       "1                                 1763    59       0   \n",
       "2                                 1776    15       0   \n",
       "3                                 1780     4       0   \n",
       "4                                 1834    49       0   \n",
       "\n",
       "   Nikon D3400 Kit (AF-P DX 18-55mm f/3.5-5.6G VR)  \n",
       "0                                              255  \n",
       "1                                              255  \n",
       "2                                              255  \n",
       "3                                              255  \n",
       "4                                              255  "
      ]
     },
     "execution_count": 10,
     "metadata": {},
     "output_type": "execute_result"
    }
   ],
   "source": [
    "data = data.drop(['382616', 'DSLR Cameras', '2055'],1 )\n",
    "from sklearn.preprocessing import LabelEncoder\n",
    "data = data.apply(LabelEncoder().fit_transform)\n",
    "data.head()"
   ]
  },
  {
   "cell_type": "code",
   "execution_count": 3,
   "metadata": {},
   "outputs": [
    {
     "data": {
      "image/png": "[encoded data removed]",
      "text/plain": [
       "<Figure size 432x288 with 1 Axes>"
      ]
     },
     "metadata": {
      "needs_background": "light"
     },
     "output_type": "display_data"
    }
   ],
   "source": [
    "from sklearn.cluster import KMeans\n",
    "import matplotlib.pyplot as plt\n",
    "wcss = []\n",
    "for i in range(1, 16):\n",
    "    kmeans = KMeans(i, n_init=15)\n",
    "    kmeans.fit(data)\n",
    "    wcss.append(kmeans.inertia_)\n",
    "plt.plot(wcss, 'bx-')\n",
    "plt.show()\n"
   ]
  },
  {
   "cell_type": "code",
   "execution_count": 13,
   "metadata": {},
   "outputs": [],
   "source": [
    "means = KMeans(3)\n",
    "Y_kmeans = kmeans.fit_predict(data)\n",
    "\n",
    "\n",
    "from sklearn.decomposition import PCA\n",
    "pca = PCA(2)\n",
    "x = pca.fit_transform(data)"
   ]
  },
  {
   "cell_type": "code",
   "execution_count": 16,
   "metadata": {},
   "outputs": [
    {
     "data": {
      "image/png": "[encoded data removed]",
      "text/plain": [
       "<Figure size 720x720 with 1 Axes>"
      ]
     },
     "metadata": {
      "needs_background": "light"
     },
     "output_type": "display_data"
    }
   ],
   "source": [
    "plt.figure(figsize=(10,10))\n",
    "plt.scatter(x[Y_kmeans==0, 0], x[Y_kmeans==0, 1], s=30, c='red', label='Cluster 1')\n",
    "plt.scatter(x[Y_kmeans==1, 0], x[Y_kmeans==1, 1], s=30, c='blue', label='Cluster 2')\n",
    "plt.scatter(x[Y_kmeans==2, 0], x[Y_kmeans==2, 1], s=30, c='green', label='Cluster 3')\n",
    "plt.show()"
   ]
  },
  {
   "cell_type": "code",
   "execution_count": null,
   "metadata": {},
   "outputs": [],
   "source": []
  }
 ],
 "metadata": {
  "kernelspec": {
   "display_name": "Python 3",
   "language": "python",
   "name": "python3"
  },
  "language_info": {
   "codemirror_mode": {
    "name": "ipython",
    "version": 3
   },
   "file_extension": ".py",
   "mimetype": "text/x-python",
   "name": "python",
   "nbconvert_exporter": "python",
   "pygments_lexer": "ipython3",
   "version": "3.7.6"
  }
 },
 "nbformat": 4,
 "nbformat_minor": 4
}
