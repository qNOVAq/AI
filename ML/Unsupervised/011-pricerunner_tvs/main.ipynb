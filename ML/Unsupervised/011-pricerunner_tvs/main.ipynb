{
 "cells": [
  {
   "cell_type": "code",
   "execution_count": 12,
   "metadata": {},
   "outputs": [
    {
     "data": {
      "text/html": [
       "<div>\n",
       "<style scoped>\n",
       "    .dataframe tbody tr th:only-of-type {\n",
       "        vertical-align: middle;\n",
       "    }\n",
       "\n",
       "    .dataframe tbody tr th {\n",
       "        vertical-align: top;\n",
       "    }\n",
       "\n",
       "    .dataframe thead th {\n",
       "        text-align: right;\n",
       "    }\n",
       "</style>\n",
       "<table border=\"1\" class=\"dataframe\">\n",
       "  <thead>\n",
       "    <tr style=\"text-align: right;\">\n",
       "      <th></th>\n",
       "      <th>10035</th>\n",
       "      <th>samsung ue49nu7100 49 ultra hd certified hdr smart 4k tv</th>\n",
       "      <th>32</th>\n",
       "      <th>4419</th>\n",
       "      <th>Samsung UE49NU7100</th>\n",
       "      <th>2614</th>\n",
       "      <th>TVs</th>\n",
       "    </tr>\n",
       "  </thead>\n",
       "  <tbody>\n",
       "    <tr>\n",
       "      <th>0</th>\n",
       "      <td>10036</td>\n",
       "      <td>49inch uhd 4k led smart tv hdr 10 tvplus</td>\n",
       "      <td>123</td>\n",
       "      <td>4419</td>\n",
       "      <td>Samsung UE49NU7100</td>\n",
       "      <td>2614</td>\n",
       "      <td>TVs</td>\n",
       "    </tr>\n",
       "    <tr>\n",
       "      <th>1</th>\n",
       "      <td>10037</td>\n",
       "      <td>ue49nu7100 49 inch 4k ultra hd hdr smart led tv</td>\n",
       "      <td>124</td>\n",
       "      <td>4419</td>\n",
       "      <td>Samsung UE49NU7100</td>\n",
       "      <td>2614</td>\n",
       "      <td>TVs</td>\n",
       "    </tr>\n",
       "    <tr>\n",
       "      <th>2</th>\n",
       "      <td>10038</td>\n",
       "      <td>samsung ue49nu7100 49 smart 4k ultra hd hdr le...</td>\n",
       "      <td>7</td>\n",
       "      <td>4419</td>\n",
       "      <td>Samsung UE49NU7100</td>\n",
       "      <td>2614</td>\n",
       "      <td>TVs</td>\n",
       "    </tr>\n",
       "    <tr>\n",
       "      <th>3</th>\n",
       "      <td>10039</td>\n",
       "      <td>samsung ue49nu7100 49 inch 4k ultra hd certifi...</td>\n",
       "      <td>17</td>\n",
       "      <td>4419</td>\n",
       "      <td>Samsung UE49NU7100</td>\n",
       "      <td>2614</td>\n",
       "      <td>TVs</td>\n",
       "    </tr>\n",
       "    <tr>\n",
       "      <th>4</th>\n",
       "      <td>10040</td>\n",
       "      <td>samsung ue49nu7100/ue49nu7100</td>\n",
       "      <td>98</td>\n",
       "      <td>4419</td>\n",
       "      <td>Samsung UE49NU7100</td>\n",
       "      <td>2614</td>\n",
       "      <td>TVs</td>\n",
       "    </tr>\n",
       "  </tbody>\n",
       "</table>\n",
       "</div>"
      ],
      "text/plain": [
       "   10035 samsung ue49nu7100 49 ultra hd certified hdr smart 4k tv   32  4419  \\\n",
       "0  10036           49inch uhd 4k led smart tv hdr 10 tvplus        123  4419   \n",
       "1  10037    ue49nu7100 49 inch 4k ultra hd hdr smart led tv        124  4419   \n",
       "2  10038  samsung ue49nu7100 49 smart 4k ultra hd hdr le...          7  4419   \n",
       "3  10039  samsung ue49nu7100 49 inch 4k ultra hd certifi...         17  4419   \n",
       "4  10040                      samsung ue49nu7100/ue49nu7100         98  4419   \n",
       "\n",
       "   Samsung UE49NU7100  2614  TVs  \n",
       "0  Samsung UE49NU7100  2614  TVs  \n",
       "1  Samsung UE49NU7100  2614  TVs  \n",
       "2  Samsung UE49NU7100  2614  TVs  \n",
       "3  Samsung UE49NU7100  2614  TVs  \n",
       "4  Samsung UE49NU7100  2614  TVs  "
      ]
     },
     "execution_count": 12,
     "metadata": {},
     "output_type": "execute_result"
    }
   ],
   "source": [
    "import pandas as pd \n",
    "import numpy as np\n",
    "data = pd.read_csv('pricerunner_tvs.csv')\n",
    "data.head()"
   ]
  },
  {
   "cell_type": "code",
   "execution_count": 13,
   "metadata": {},
   "outputs": [],
   "source": [
    "data = data.drop(['10035', 'TVs', '2614'],1 )"
   ]
  },
  {
   "cell_type": "code",
   "execution_count": 14,
   "metadata": {},
   "outputs": [
    {
     "data": {
      "text/html": [
       "<div>\n",
       "<style scoped>\n",
       "    .dataframe tbody tr th:only-of-type {\n",
       "        vertical-align: middle;\n",
       "    }\n",
       "\n",
       "    .dataframe tbody tr th {\n",
       "        vertical-align: top;\n",
       "    }\n",
       "\n",
       "    .dataframe thead th {\n",
       "        text-align: right;\n",
       "    }\n",
       "</style>\n",
       "<table border=\"1\" class=\"dataframe\">\n",
       "  <thead>\n",
       "    <tr style=\"text-align: right;\">\n",
       "      <th></th>\n",
       "      <th>samsung ue49nu7100 49 ultra hd certified hdr smart 4k tv</th>\n",
       "      <th>32</th>\n",
       "      <th>4419</th>\n",
       "      <th>Samsung UE49NU7100</th>\n",
       "    </tr>\n",
       "  </thead>\n",
       "  <tbody>\n",
       "    <tr>\n",
       "      <th>0</th>\n",
       "      <td>152</td>\n",
       "      <td>56</td>\n",
       "      <td>0</td>\n",
       "      <td>871</td>\n",
       "    </tr>\n",
       "    <tr>\n",
       "      <th>1</th>\n",
       "      <td>3260</td>\n",
       "      <td>57</td>\n",
       "      <td>0</td>\n",
       "      <td>871</td>\n",
       "    </tr>\n",
       "    <tr>\n",
       "      <th>2</th>\n",
       "      <td>2327</td>\n",
       "      <td>5</td>\n",
       "      <td>0</td>\n",
       "      <td>871</td>\n",
       "    </tr>\n",
       "    <tr>\n",
       "      <th>3</th>\n",
       "      <td>2325</td>\n",
       "      <td>14</td>\n",
       "      <td>0</td>\n",
       "      <td>871</td>\n",
       "    </tr>\n",
       "    <tr>\n",
       "      <th>4</th>\n",
       "      <td>2328</td>\n",
       "      <td>47</td>\n",
       "      <td>0</td>\n",
       "      <td>871</td>\n",
       "    </tr>\n",
       "  </tbody>\n",
       "</table>\n",
       "</div>"
      ],
      "text/plain": [
       "   samsung ue49nu7100 49 ultra hd certified hdr smart 4k tv  32  4419  \\\n",
       "0                                                152         56     0   \n",
       "1                                               3260         57     0   \n",
       "2                                               2327          5     0   \n",
       "3                                               2325         14     0   \n",
       "4                                               2328         47     0   \n",
       "\n",
       "   Samsung UE49NU7100  \n",
       "0                 871  \n",
       "1                 871  \n",
       "2                 871  \n",
       "3                 871  \n",
       "4                 871  "
      ]
     },
     "execution_count": 14,
     "metadata": {},
     "output_type": "execute_result"
    }
   ],
   "source": [
    "from sklearn.preprocessing import LabelEncoder\n",
    "data = data.apply(LabelEncoder().fit_transform)\n",
    "data.head()"
   ]
  },
  {
   "cell_type": "code",
   "execution_count": 5,
   "metadata": {},
   "outputs": [
    {
     "data": {
      "image/png": "[encoded data removed]",
      "text/plain": [
       "<Figure size 432x288 with 1 Axes>"
      ]
     },
     "metadata": {
      "needs_background": "light"
     },
     "output_type": "display_data"
    }
   ],
   "source": [
    "from sklearn.cluster import KMeans\n",
    "import matplotlib.pyplot as plt\n",
    "wcss = []\n",
    "\n",
    "for i in range(1, 16):\n",
    "    kmeans = KMeans(i, n_init=15)\n",
    "    kmeans.fit(data)\n",
    "    wcss.append(kmeans.inertia_)\n",
    "plt.plot(wcss, 'bx-')\n",
    "plt.show()"
   ]
  },
  {
   "cell_type": "code",
   "execution_count": 20,
   "metadata": {},
   "outputs": [],
   "source": [
    "kmeans = KMeans(3)\n",
    "Y_kmeans = kmeans.fit_predict(data)"
   ]
  },
  {
   "cell_type": "code",
   "execution_count": 21,
   "metadata": {},
   "outputs": [],
   "source": [
    "from sklearn.decomposition import PCA\n",
    "pca = PCA(2)\n",
    "x = pca.fit_transform(data)"
   ]
  },
  {
   "cell_type": "code",
   "execution_count": null,
   "metadata": {},
   "outputs": [],
   "source": [
    "# plt.figure(figsize=(10,10))\n",
    "plt.scatter(x[Y_kmeans==0, 0], x[Y_kmeans==0, 1], s=30, c='red', label='Cluster 1')\n",
    "plt.scatter(x[Y_kmeans==1, 0], x[Y_kmeans==1, 1], s=30, c='blue', label='Cluster 2')\n",
    "plt.scatter(x[Y_kmeans==2, 0], x[Y_kmeans==2, 1], s=30, c='green', label='Cluster 3')\n",
    "plt.show()\n"
   ]
  },
  {
   "cell_type": "code",
   "execution_count": null,
   "metadata": {},
   "outputs": [],
   "source": []
  }
 ],
 "metadata": {
  "kernelspec": {
   "display_name": "Python 3",
   "language": "python",
   "name": "python3"
  },
  "language_info": {
   "codemirror_mode": {
    "name": "ipython",
    "version": 3
   },
   "file_extension": ".py",
   "mimetype": "text/x-python",
   "name": "python",
   "nbconvert_exporter": "python",
   "pygments_lexer": "ipython3",
   "version": "3.7.6"
  }
 },
 "nbformat": 4,
 "nbformat_minor": 4
}
